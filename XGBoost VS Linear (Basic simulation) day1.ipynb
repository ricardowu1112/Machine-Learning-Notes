{
 "cells": [
  {
   "cell_type": "code",
   "execution_count": 154,
   "id": "a92a8aa5",
   "metadata": {},
   "outputs": [
    {
     "name": "stdout",
     "output_type": "stream",
     "text": [
      "Windows-10-10.0.19041-SP0\n",
      "Python 3.8.8 (default, Apr 13 2021, 15:08:03) [MSC v.1916 64 bit (AMD64)]\n",
      "NumPy 1.22.3\n",
      "SciPy 1.9.1\n",
      "Scikit-Learn 1.1.2\n",
      "XGBoost 1.5.0\n"
     ]
    }
   ],
   "source": [
    "import platform; print(platform.platform())\n",
    "import sys; print(\"Python\", sys.version)\n",
    "import numpy; print(\"NumPy\", numpy.__version__)\n",
    "import scipy; print(\"SciPy\", scipy.__version__)\n",
    "import sklearn; print(\"Scikit-Learn\", sklearn.__version__) \n",
    "import xgboost; print(\"XGBoost\", xgboost.__version__)"
   ]
  },
  {
   "cell_type": "code",
   "execution_count": 137,
   "id": "81641d1d",
   "metadata": {},
   "outputs": [],
   "source": [
    "import warnings\n",
    "warnings.filterwarnings('ignore')\n",
    "### not recomment in real modelling"
   ]
  },
  {
   "cell_type": "markdown",
   "id": "ca6111c3",
   "metadata": {},
   "source": [
    "# Data Preprocessing"
   ]
  },
  {
   "cell_type": "code",
   "execution_count": 28,
   "id": "fdadff09",
   "metadata": {},
   "outputs": [
    {
     "data": {
      "text/html": [
       "<div>\n",
       "<style scoped>\n",
       "    .dataframe tbody tr th:only-of-type {\n",
       "        vertical-align: middle;\n",
       "    }\n",
       "\n",
       "    .dataframe tbody tr th {\n",
       "        vertical-align: top;\n",
       "    }\n",
       "\n",
       "    .dataframe thead th {\n",
       "        text-align: right;\n",
       "    }\n",
       "</style>\n",
       "<table border=\"1\" class=\"dataframe\">\n",
       "  <thead>\n",
       "    <tr style=\"text-align: right;\">\n",
       "      <th></th>\n",
       "      <th>instant</th>\n",
       "      <th>dteday</th>\n",
       "      <th>season</th>\n",
       "      <th>yr</th>\n",
       "      <th>mnth</th>\n",
       "      <th>holiday</th>\n",
       "      <th>weekday</th>\n",
       "      <th>workingday</th>\n",
       "      <th>weathersit</th>\n",
       "      <th>temp</th>\n",
       "      <th>atemp</th>\n",
       "      <th>hum</th>\n",
       "      <th>windspeed</th>\n",
       "      <th>casual</th>\n",
       "      <th>registered</th>\n",
       "      <th>cnt</th>\n",
       "    </tr>\n",
       "  </thead>\n",
       "  <tbody>\n",
       "    <tr>\n",
       "      <th>0</th>\n",
       "      <td>1</td>\n",
       "      <td>2011-01-01</td>\n",
       "      <td>1.0</td>\n",
       "      <td>0.0</td>\n",
       "      <td>1.0</td>\n",
       "      <td>0.0</td>\n",
       "      <td>6.0</td>\n",
       "      <td>0.0</td>\n",
       "      <td>2</td>\n",
       "      <td>0.344167</td>\n",
       "      <td>0.363625</td>\n",
       "      <td>0.805833</td>\n",
       "      <td>0.160446</td>\n",
       "      <td>331</td>\n",
       "      <td>654</td>\n",
       "      <td>985</td>\n",
       "    </tr>\n",
       "    <tr>\n",
       "      <th>1</th>\n",
       "      <td>2</td>\n",
       "      <td>2011-01-02</td>\n",
       "      <td>1.0</td>\n",
       "      <td>0.0</td>\n",
       "      <td>1.0</td>\n",
       "      <td>0.0</td>\n",
       "      <td>0.0</td>\n",
       "      <td>0.0</td>\n",
       "      <td>2</td>\n",
       "      <td>0.363478</td>\n",
       "      <td>0.353739</td>\n",
       "      <td>0.696087</td>\n",
       "      <td>0.248539</td>\n",
       "      <td>131</td>\n",
       "      <td>670</td>\n",
       "      <td>801</td>\n",
       "    </tr>\n",
       "    <tr>\n",
       "      <th>2</th>\n",
       "      <td>3</td>\n",
       "      <td>2011-01-03</td>\n",
       "      <td>1.0</td>\n",
       "      <td>0.0</td>\n",
       "      <td>1.0</td>\n",
       "      <td>0.0</td>\n",
       "      <td>1.0</td>\n",
       "      <td>1.0</td>\n",
       "      <td>1</td>\n",
       "      <td>0.196364</td>\n",
       "      <td>0.189405</td>\n",
       "      <td>0.437273</td>\n",
       "      <td>0.248309</td>\n",
       "      <td>120</td>\n",
       "      <td>1229</td>\n",
       "      <td>1349</td>\n",
       "    </tr>\n",
       "    <tr>\n",
       "      <th>3</th>\n",
       "      <td>4</td>\n",
       "      <td>2011-01-04</td>\n",
       "      <td>1.0</td>\n",
       "      <td>0.0</td>\n",
       "      <td>1.0</td>\n",
       "      <td>0.0</td>\n",
       "      <td>2.0</td>\n",
       "      <td>1.0</td>\n",
       "      <td>1</td>\n",
       "      <td>0.200000</td>\n",
       "      <td>0.212122</td>\n",
       "      <td>0.590435</td>\n",
       "      <td>0.160296</td>\n",
       "      <td>108</td>\n",
       "      <td>1454</td>\n",
       "      <td>1562</td>\n",
       "    </tr>\n",
       "    <tr>\n",
       "      <th>4</th>\n",
       "      <td>5</td>\n",
       "      <td>2011-01-05</td>\n",
       "      <td>1.0</td>\n",
       "      <td>0.0</td>\n",
       "      <td>1.0</td>\n",
       "      <td>0.0</td>\n",
       "      <td>3.0</td>\n",
       "      <td>1.0</td>\n",
       "      <td>1</td>\n",
       "      <td>0.226957</td>\n",
       "      <td>0.229270</td>\n",
       "      <td>0.436957</td>\n",
       "      <td>0.186900</td>\n",
       "      <td>82</td>\n",
       "      <td>1518</td>\n",
       "      <td>1600</td>\n",
       "    </tr>\n",
       "  </tbody>\n",
       "</table>\n",
       "</div>"
      ],
      "text/plain": [
       "   instant      dteday  season   yr  mnth  holiday  weekday  workingday  \\\n",
       "0        1  2011-01-01     1.0  0.0   1.0      0.0      6.0         0.0   \n",
       "1        2  2011-01-02     1.0  0.0   1.0      0.0      0.0         0.0   \n",
       "2        3  2011-01-03     1.0  0.0   1.0      0.0      1.0         1.0   \n",
       "3        4  2011-01-04     1.0  0.0   1.0      0.0      2.0         1.0   \n",
       "4        5  2011-01-05     1.0  0.0   1.0      0.0      3.0         1.0   \n",
       "\n",
       "   weathersit      temp     atemp       hum  windspeed  casual  registered  \\\n",
       "0           2  0.344167  0.363625  0.805833   0.160446     331         654   \n",
       "1           2  0.363478  0.353739  0.696087   0.248539     131         670   \n",
       "2           1  0.196364  0.189405  0.437273   0.248309     120        1229   \n",
       "3           1  0.200000  0.212122  0.590435   0.160296     108        1454   \n",
       "4           1  0.226957  0.229270  0.436957   0.186900      82        1518   \n",
       "\n",
       "    cnt  \n",
       "0   985  \n",
       "1   801  \n",
       "2  1349  \n",
       "3  1562  \n",
       "4  1600  "
      ]
     },
     "execution_count": 28,
     "metadata": {},
     "output_type": "execute_result"
    }
   ],
   "source": [
    "import pandas as pd\n",
    "df_bikes = pd.read_csv(\"bike_rentals.csv\")\n",
    "df_bikes.head()"
   ]
  },
  {
   "cell_type": "code",
   "execution_count": 30,
   "id": "fb08eddf",
   "metadata": {},
   "outputs": [
    {
     "data": {
      "text/html": [
       "<div>\n",
       "<style scoped>\n",
       "    .dataframe tbody tr th:only-of-type {\n",
       "        vertical-align: middle;\n",
       "    }\n",
       "\n",
       "    .dataframe tbody tr th {\n",
       "        vertical-align: top;\n",
       "    }\n",
       "\n",
       "    .dataframe thead th {\n",
       "        text-align: right;\n",
       "    }\n",
       "</style>\n",
       "<table border=\"1\" class=\"dataframe\">\n",
       "  <thead>\n",
       "    <tr style=\"text-align: right;\">\n",
       "      <th></th>\n",
       "      <th>instant</th>\n",
       "      <th>season</th>\n",
       "      <th>yr</th>\n",
       "      <th>mnth</th>\n",
       "      <th>holiday</th>\n",
       "      <th>weekday</th>\n",
       "      <th>workingday</th>\n",
       "      <th>weathersit</th>\n",
       "      <th>temp</th>\n",
       "      <th>atemp</th>\n",
       "      <th>hum</th>\n",
       "      <th>windspeed</th>\n",
       "      <th>casual</th>\n",
       "      <th>registered</th>\n",
       "      <th>cnt</th>\n",
       "    </tr>\n",
       "  </thead>\n",
       "  <tbody>\n",
       "    <tr>\n",
       "      <th>count</th>\n",
       "      <td>731.000000</td>\n",
       "      <td>731.000000</td>\n",
       "      <td>730.000000</td>\n",
       "      <td>730.000000</td>\n",
       "      <td>731.000000</td>\n",
       "      <td>731.000000</td>\n",
       "      <td>731.000000</td>\n",
       "      <td>731.000000</td>\n",
       "      <td>730.000000</td>\n",
       "      <td>730.000000</td>\n",
       "      <td>728.000000</td>\n",
       "      <td>726.000000</td>\n",
       "      <td>731.000000</td>\n",
       "      <td>731.000000</td>\n",
       "      <td>731.000000</td>\n",
       "    </tr>\n",
       "    <tr>\n",
       "      <th>mean</th>\n",
       "      <td>366.000000</td>\n",
       "      <td>2.496580</td>\n",
       "      <td>0.500000</td>\n",
       "      <td>6.512329</td>\n",
       "      <td>0.028728</td>\n",
       "      <td>2.997264</td>\n",
       "      <td>0.682627</td>\n",
       "      <td>1.395349</td>\n",
       "      <td>0.495587</td>\n",
       "      <td>0.474512</td>\n",
       "      <td>0.627987</td>\n",
       "      <td>0.190476</td>\n",
       "      <td>848.176471</td>\n",
       "      <td>3656.172367</td>\n",
       "      <td>4504.348837</td>\n",
       "    </tr>\n",
       "    <tr>\n",
       "      <th>std</th>\n",
       "      <td>211.165812</td>\n",
       "      <td>1.110807</td>\n",
       "      <td>0.500343</td>\n",
       "      <td>3.448303</td>\n",
       "      <td>0.167155</td>\n",
       "      <td>2.004787</td>\n",
       "      <td>0.465773</td>\n",
       "      <td>0.544894</td>\n",
       "      <td>0.183094</td>\n",
       "      <td>0.163017</td>\n",
       "      <td>0.142331</td>\n",
       "      <td>0.077725</td>\n",
       "      <td>686.622488</td>\n",
       "      <td>1560.256377</td>\n",
       "      <td>1937.211452</td>\n",
       "    </tr>\n",
       "    <tr>\n",
       "      <th>min</th>\n",
       "      <td>1.000000</td>\n",
       "      <td>1.000000</td>\n",
       "      <td>0.000000</td>\n",
       "      <td>1.000000</td>\n",
       "      <td>0.000000</td>\n",
       "      <td>0.000000</td>\n",
       "      <td>0.000000</td>\n",
       "      <td>1.000000</td>\n",
       "      <td>0.059130</td>\n",
       "      <td>0.079070</td>\n",
       "      <td>0.000000</td>\n",
       "      <td>0.022392</td>\n",
       "      <td>2.000000</td>\n",
       "      <td>20.000000</td>\n",
       "      <td>22.000000</td>\n",
       "    </tr>\n",
       "    <tr>\n",
       "      <th>25%</th>\n",
       "      <td>183.500000</td>\n",
       "      <td>2.000000</td>\n",
       "      <td>0.000000</td>\n",
       "      <td>4.000000</td>\n",
       "      <td>0.000000</td>\n",
       "      <td>1.000000</td>\n",
       "      <td>0.000000</td>\n",
       "      <td>1.000000</td>\n",
       "      <td>0.336875</td>\n",
       "      <td>0.337794</td>\n",
       "      <td>0.521562</td>\n",
       "      <td>0.134494</td>\n",
       "      <td>315.500000</td>\n",
       "      <td>2497.000000</td>\n",
       "      <td>3152.000000</td>\n",
       "    </tr>\n",
       "    <tr>\n",
       "      <th>50%</th>\n",
       "      <td>366.000000</td>\n",
       "      <td>3.000000</td>\n",
       "      <td>0.500000</td>\n",
       "      <td>7.000000</td>\n",
       "      <td>0.000000</td>\n",
       "      <td>3.000000</td>\n",
       "      <td>1.000000</td>\n",
       "      <td>1.000000</td>\n",
       "      <td>0.499166</td>\n",
       "      <td>0.487364</td>\n",
       "      <td>0.627083</td>\n",
       "      <td>0.180971</td>\n",
       "      <td>713.000000</td>\n",
       "      <td>3662.000000</td>\n",
       "      <td>4548.000000</td>\n",
       "    </tr>\n",
       "    <tr>\n",
       "      <th>75%</th>\n",
       "      <td>548.500000</td>\n",
       "      <td>3.000000</td>\n",
       "      <td>1.000000</td>\n",
       "      <td>9.750000</td>\n",
       "      <td>0.000000</td>\n",
       "      <td>5.000000</td>\n",
       "      <td>1.000000</td>\n",
       "      <td>2.000000</td>\n",
       "      <td>0.655625</td>\n",
       "      <td>0.608916</td>\n",
       "      <td>0.730104</td>\n",
       "      <td>0.233218</td>\n",
       "      <td>1096.000000</td>\n",
       "      <td>4776.500000</td>\n",
       "      <td>5956.000000</td>\n",
       "    </tr>\n",
       "    <tr>\n",
       "      <th>max</th>\n",
       "      <td>731.000000</td>\n",
       "      <td>4.000000</td>\n",
       "      <td>1.000000</td>\n",
       "      <td>12.000000</td>\n",
       "      <td>1.000000</td>\n",
       "      <td>6.000000</td>\n",
       "      <td>1.000000</td>\n",
       "      <td>3.000000</td>\n",
       "      <td>0.861667</td>\n",
       "      <td>0.840896</td>\n",
       "      <td>0.972500</td>\n",
       "      <td>0.507463</td>\n",
       "      <td>3410.000000</td>\n",
       "      <td>6946.000000</td>\n",
       "      <td>8714.000000</td>\n",
       "    </tr>\n",
       "  </tbody>\n",
       "</table>\n",
       "</div>"
      ],
      "text/plain": [
       "          instant      season          yr        mnth     holiday     weekday  \\\n",
       "count  731.000000  731.000000  730.000000  730.000000  731.000000  731.000000   \n",
       "mean   366.000000    2.496580    0.500000    6.512329    0.028728    2.997264   \n",
       "std    211.165812    1.110807    0.500343    3.448303    0.167155    2.004787   \n",
       "min      1.000000    1.000000    0.000000    1.000000    0.000000    0.000000   \n",
       "25%    183.500000    2.000000    0.000000    4.000000    0.000000    1.000000   \n",
       "50%    366.000000    3.000000    0.500000    7.000000    0.000000    3.000000   \n",
       "75%    548.500000    3.000000    1.000000    9.750000    0.000000    5.000000   \n",
       "max    731.000000    4.000000    1.000000   12.000000    1.000000    6.000000   \n",
       "\n",
       "       workingday  weathersit        temp       atemp         hum   windspeed  \\\n",
       "count  731.000000  731.000000  730.000000  730.000000  728.000000  726.000000   \n",
       "mean     0.682627    1.395349    0.495587    0.474512    0.627987    0.190476   \n",
       "std      0.465773    0.544894    0.183094    0.163017    0.142331    0.077725   \n",
       "min      0.000000    1.000000    0.059130    0.079070    0.000000    0.022392   \n",
       "25%      0.000000    1.000000    0.336875    0.337794    0.521562    0.134494   \n",
       "50%      1.000000    1.000000    0.499166    0.487364    0.627083    0.180971   \n",
       "75%      1.000000    2.000000    0.655625    0.608916    0.730104    0.233218   \n",
       "max      1.000000    3.000000    0.861667    0.840896    0.972500    0.507463   \n",
       "\n",
       "            casual   registered          cnt  \n",
       "count   731.000000   731.000000   731.000000  \n",
       "mean    848.176471  3656.172367  4504.348837  \n",
       "std     686.622488  1560.256377  1937.211452  \n",
       "min       2.000000    20.000000    22.000000  \n",
       "25%     315.500000  2497.000000  3152.000000  \n",
       "50%     713.000000  3662.000000  4548.000000  \n",
       "75%    1096.000000  4776.500000  5956.000000  \n",
       "max    3410.000000  6946.000000  8714.000000  "
      ]
     },
     "execution_count": 30,
     "metadata": {},
     "output_type": "execute_result"
    }
   ],
   "source": [
    "df_bikes.describe()"
   ]
  },
  {
   "cell_type": "markdown",
   "id": "04be7b03",
   "metadata": {},
   "source": [
    "### 50% median close to mean, data is symmetrical"
   ]
  },
  {
   "cell_type": "code",
   "execution_count": 32,
   "id": "b28d752b",
   "metadata": {},
   "outputs": [
    {
     "name": "stdout",
     "output_type": "stream",
     "text": [
      "<class 'pandas.core.frame.DataFrame'>\n",
      "RangeIndex: 731 entries, 0 to 730\n",
      "Data columns (total 16 columns):\n",
      " #   Column      Non-Null Count  Dtype  \n",
      "---  ------      --------------  -----  \n",
      " 0   instant     731 non-null    int64  \n",
      " 1   dteday      731 non-null    object \n",
      " 2   season      731 non-null    float64\n",
      " 3   yr          730 non-null    float64\n",
      " 4   mnth        730 non-null    float64\n",
      " 5   holiday     731 non-null    float64\n",
      " 6   weekday     731 non-null    float64\n",
      " 7   workingday  731 non-null    float64\n",
      " 8   weathersit  731 non-null    int64  \n",
      " 9   temp        730 non-null    float64\n",
      " 10  atemp       730 non-null    float64\n",
      " 11  hum         728 non-null    float64\n",
      " 12  windspeed   726 non-null    float64\n",
      " 13  casual      731 non-null    int64  \n",
      " 14  registered  731 non-null    int64  \n",
      " 15  cnt         731 non-null    int64  \n",
      "dtypes: float64(10), int64(5), object(1)\n",
      "memory usage: 91.5+ KB\n"
     ]
    }
   ],
   "source": [
    "df_bikes.info() #general information about columns and rows"
   ]
  },
  {
   "cell_type": "markdown",
   "id": "feb08539",
   "metadata": {},
   "source": [
    "### non-null count not consistent, there are null values"
   ]
  },
  {
   "cell_type": "code",
   "execution_count": 37,
   "id": "253cc5c9",
   "metadata": {},
   "outputs": [
    {
     "data": {
      "text/plain": [
       "instant       0\n",
       "dteday        0\n",
       "season        0\n",
       "yr            1\n",
       "mnth          1\n",
       "holiday       0\n",
       "weekday       0\n",
       "workingday    0\n",
       "weathersit    0\n",
       "temp          1\n",
       "atemp         1\n",
       "hum           3\n",
       "windspeed     5\n",
       "casual        0\n",
       "registered    0\n",
       "cnt           0\n",
       "dtype: int64"
      ]
     },
     "execution_count": 37,
     "metadata": {},
     "output_type": "execute_result"
    }
   ],
   "source": [
    "df_bikes.isna().sum()"
   ]
  },
  {
   "cell_type": "code",
   "execution_count": 40,
   "id": "b6314ba7",
   "metadata": {},
   "outputs": [
    {
     "data": {
      "text/html": [
       "<div>\n",
       "<style scoped>\n",
       "    .dataframe tbody tr th:only-of-type {\n",
       "        vertical-align: middle;\n",
       "    }\n",
       "\n",
       "    .dataframe tbody tr th {\n",
       "        vertical-align: top;\n",
       "    }\n",
       "\n",
       "    .dataframe thead th {\n",
       "        text-align: right;\n",
       "    }\n",
       "</style>\n",
       "<table border=\"1\" class=\"dataframe\">\n",
       "  <thead>\n",
       "    <tr style=\"text-align: right;\">\n",
       "      <th></th>\n",
       "      <th>instant</th>\n",
       "      <th>dteday</th>\n",
       "      <th>season</th>\n",
       "      <th>yr</th>\n",
       "      <th>mnth</th>\n",
       "      <th>holiday</th>\n",
       "      <th>weekday</th>\n",
       "      <th>workingday</th>\n",
       "      <th>weathersit</th>\n",
       "      <th>temp</th>\n",
       "      <th>atemp</th>\n",
       "      <th>hum</th>\n",
       "      <th>windspeed</th>\n",
       "      <th>casual</th>\n",
       "      <th>registered</th>\n",
       "      <th>cnt</th>\n",
       "    </tr>\n",
       "  </thead>\n",
       "  <tbody>\n",
       "    <tr>\n",
       "      <th>56</th>\n",
       "      <td>57</td>\n",
       "      <td>2011-02-26</td>\n",
       "      <td>1.0</td>\n",
       "      <td>0.0</td>\n",
       "      <td>2.0</td>\n",
       "      <td>0.0</td>\n",
       "      <td>6.0</td>\n",
       "      <td>0.0</td>\n",
       "      <td>1</td>\n",
       "      <td>0.282500</td>\n",
       "      <td>0.282192</td>\n",
       "      <td>0.537917</td>\n",
       "      <td>NaN</td>\n",
       "      <td>424</td>\n",
       "      <td>1545</td>\n",
       "      <td>1969</td>\n",
       "    </tr>\n",
       "    <tr>\n",
       "      <th>81</th>\n",
       "      <td>82</td>\n",
       "      <td>2011-03-23</td>\n",
       "      <td>2.0</td>\n",
       "      <td>0.0</td>\n",
       "      <td>3.0</td>\n",
       "      <td>0.0</td>\n",
       "      <td>3.0</td>\n",
       "      <td>1.0</td>\n",
       "      <td>2</td>\n",
       "      <td>0.346957</td>\n",
       "      <td>0.337939</td>\n",
       "      <td>0.839565</td>\n",
       "      <td>NaN</td>\n",
       "      <td>203</td>\n",
       "      <td>1918</td>\n",
       "      <td>2121</td>\n",
       "    </tr>\n",
       "    <tr>\n",
       "      <th>128</th>\n",
       "      <td>129</td>\n",
       "      <td>2011-05-09</td>\n",
       "      <td>2.0</td>\n",
       "      <td>0.0</td>\n",
       "      <td>5.0</td>\n",
       "      <td>0.0</td>\n",
       "      <td>1.0</td>\n",
       "      <td>1.0</td>\n",
       "      <td>1</td>\n",
       "      <td>0.532500</td>\n",
       "      <td>0.525246</td>\n",
       "      <td>0.588750</td>\n",
       "      <td>NaN</td>\n",
       "      <td>664</td>\n",
       "      <td>3698</td>\n",
       "      <td>4362</td>\n",
       "    </tr>\n",
       "    <tr>\n",
       "      <th>129</th>\n",
       "      <td>130</td>\n",
       "      <td>2011-05-10</td>\n",
       "      <td>2.0</td>\n",
       "      <td>0.0</td>\n",
       "      <td>5.0</td>\n",
       "      <td>0.0</td>\n",
       "      <td>2.0</td>\n",
       "      <td>1.0</td>\n",
       "      <td>1</td>\n",
       "      <td>0.532500</td>\n",
       "      <td>0.522721</td>\n",
       "      <td>NaN</td>\n",
       "      <td>0.115671</td>\n",
       "      <td>694</td>\n",
       "      <td>4109</td>\n",
       "      <td>4803</td>\n",
       "    </tr>\n",
       "    <tr>\n",
       "      <th>213</th>\n",
       "      <td>214</td>\n",
       "      <td>2011-08-02</td>\n",
       "      <td>3.0</td>\n",
       "      <td>0.0</td>\n",
       "      <td>8.0</td>\n",
       "      <td>0.0</td>\n",
       "      <td>2.0</td>\n",
       "      <td>1.0</td>\n",
       "      <td>1</td>\n",
       "      <td>0.783333</td>\n",
       "      <td>0.707071</td>\n",
       "      <td>NaN</td>\n",
       "      <td>0.205850</td>\n",
       "      <td>801</td>\n",
       "      <td>4044</td>\n",
       "      <td>4845</td>\n",
       "    </tr>\n",
       "    <tr>\n",
       "      <th>298</th>\n",
       "      <td>299</td>\n",
       "      <td>2011-10-26</td>\n",
       "      <td>4.0</td>\n",
       "      <td>0.0</td>\n",
       "      <td>10.0</td>\n",
       "      <td>0.0</td>\n",
       "      <td>3.0</td>\n",
       "      <td>1.0</td>\n",
       "      <td>2</td>\n",
       "      <td>0.484167</td>\n",
       "      <td>0.472846</td>\n",
       "      <td>0.720417</td>\n",
       "      <td>NaN</td>\n",
       "      <td>404</td>\n",
       "      <td>3490</td>\n",
       "      <td>3894</td>\n",
       "    </tr>\n",
       "    <tr>\n",
       "      <th>388</th>\n",
       "      <td>389</td>\n",
       "      <td>2012-01-24</td>\n",
       "      <td>1.0</td>\n",
       "      <td>1.0</td>\n",
       "      <td>1.0</td>\n",
       "      <td>0.0</td>\n",
       "      <td>2.0</td>\n",
       "      <td>1.0</td>\n",
       "      <td>1</td>\n",
       "      <td>0.342500</td>\n",
       "      <td>0.349108</td>\n",
       "      <td>NaN</td>\n",
       "      <td>0.123767</td>\n",
       "      <td>439</td>\n",
       "      <td>3900</td>\n",
       "      <td>4339</td>\n",
       "    </tr>\n",
       "    <tr>\n",
       "      <th>528</th>\n",
       "      <td>529</td>\n",
       "      <td>2012-06-12</td>\n",
       "      <td>2.0</td>\n",
       "      <td>1.0</td>\n",
       "      <td>6.0</td>\n",
       "      <td>0.0</td>\n",
       "      <td>2.0</td>\n",
       "      <td>1.0</td>\n",
       "      <td>2</td>\n",
       "      <td>0.653333</td>\n",
       "      <td>0.597875</td>\n",
       "      <td>0.833333</td>\n",
       "      <td>NaN</td>\n",
       "      <td>477</td>\n",
       "      <td>4495</td>\n",
       "      <td>4972</td>\n",
       "    </tr>\n",
       "    <tr>\n",
       "      <th>701</th>\n",
       "      <td>702</td>\n",
       "      <td>2012-12-02</td>\n",
       "      <td>4.0</td>\n",
       "      <td>1.0</td>\n",
       "      <td>12.0</td>\n",
       "      <td>0.0</td>\n",
       "      <td>0.0</td>\n",
       "      <td>0.0</td>\n",
       "      <td>2</td>\n",
       "      <td>NaN</td>\n",
       "      <td>NaN</td>\n",
       "      <td>0.823333</td>\n",
       "      <td>0.124379</td>\n",
       "      <td>892</td>\n",
       "      <td>3757</td>\n",
       "      <td>4649</td>\n",
       "    </tr>\n",
       "    <tr>\n",
       "      <th>730</th>\n",
       "      <td>731</td>\n",
       "      <td>2012-12-31</td>\n",
       "      <td>1.0</td>\n",
       "      <td>NaN</td>\n",
       "      <td>NaN</td>\n",
       "      <td>0.0</td>\n",
       "      <td>1.0</td>\n",
       "      <td>0.0</td>\n",
       "      <td>2</td>\n",
       "      <td>0.215833</td>\n",
       "      <td>0.223487</td>\n",
       "      <td>0.577500</td>\n",
       "      <td>0.154846</td>\n",
       "      <td>439</td>\n",
       "      <td>2290</td>\n",
       "      <td>2729</td>\n",
       "    </tr>\n",
       "  </tbody>\n",
       "</table>\n",
       "</div>"
      ],
      "text/plain": [
       "     instant      dteday  season   yr  mnth  holiday  weekday  workingday  \\\n",
       "56        57  2011-02-26     1.0  0.0   2.0      0.0      6.0         0.0   \n",
       "81        82  2011-03-23     2.0  0.0   3.0      0.0      3.0         1.0   \n",
       "128      129  2011-05-09     2.0  0.0   5.0      0.0      1.0         1.0   \n",
       "129      130  2011-05-10     2.0  0.0   5.0      0.0      2.0         1.0   \n",
       "213      214  2011-08-02     3.0  0.0   8.0      0.0      2.0         1.0   \n",
       "298      299  2011-10-26     4.0  0.0  10.0      0.0      3.0         1.0   \n",
       "388      389  2012-01-24     1.0  1.0   1.0      0.0      2.0         1.0   \n",
       "528      529  2012-06-12     2.0  1.0   6.0      0.0      2.0         1.0   \n",
       "701      702  2012-12-02     4.0  1.0  12.0      0.0      0.0         0.0   \n",
       "730      731  2012-12-31     1.0  NaN   NaN      0.0      1.0         0.0   \n",
       "\n",
       "     weathersit      temp     atemp       hum  windspeed  casual  registered  \\\n",
       "56            1  0.282500  0.282192  0.537917        NaN     424        1545   \n",
       "81            2  0.346957  0.337939  0.839565        NaN     203        1918   \n",
       "128           1  0.532500  0.525246  0.588750        NaN     664        3698   \n",
       "129           1  0.532500  0.522721       NaN   0.115671     694        4109   \n",
       "213           1  0.783333  0.707071       NaN   0.205850     801        4044   \n",
       "298           2  0.484167  0.472846  0.720417        NaN     404        3490   \n",
       "388           1  0.342500  0.349108       NaN   0.123767     439        3900   \n",
       "528           2  0.653333  0.597875  0.833333        NaN     477        4495   \n",
       "701           2       NaN       NaN  0.823333   0.124379     892        3757   \n",
       "730           2  0.215833  0.223487  0.577500   0.154846     439        2290   \n",
       "\n",
       "      cnt  \n",
       "56   1969  \n",
       "81   2121  \n",
       "128  4362  \n",
       "129  4803  \n",
       "213  4845  \n",
       "298  3894  \n",
       "388  4339  \n",
       "528  4972  \n",
       "701  4649  \n",
       "730  2729  "
      ]
     },
     "execution_count": 40,
     "metadata": {},
     "output_type": "execute_result"
    }
   ],
   "source": [
    "df_bikes[df_bikes.isna().any(axis=1)]"
   ]
  },
  {
   "cell_type": "code",
   "execution_count": 54,
   "id": "9e4d5399",
   "metadata": {},
   "outputs": [
    {
     "name": "stdout",
     "output_type": "stream",
     "text": [
      "4.078318635950721 -2.162548704459678\n"
     ]
    }
   ],
   "source": [
    "'''\n",
    "df_bikes['windspeed'].describe()\n",
    "windspeed_minZ = (df_bikes['windspeed'].min()- df_bikes['windspeed'].mean())/df_bikes['windspeed'].std()\n",
    "windspeed_maxZ = (df_bikes['windspeed'].max()- df_bikes['windspeed'].mean())/df_bikes['windspeed'].std()\n",
    "print(windspeed_maxZ,windspeed_minZ)\n",
    "'''"
   ]
  },
  {
   "cell_type": "markdown",
   "id": "4aed6578",
   "metadata": {},
   "source": [
    "### Symmetical test to decide fillna value of windspeed"
   ]
  },
  {
   "cell_type": "code",
   "execution_count": 66,
   "id": "cc4863b3",
   "metadata": {},
   "outputs": [
    {
     "data": {
      "text/plain": [
       "<AxesSubplot:xlabel='windspeed', ylabel='Density'>"
      ]
     },
     "execution_count": 66,
     "metadata": {},
     "output_type": "execute_result"
    },
    {
     "data": {
      "image/png": "[encoded data removed]",
      "text/plain": [
       "<Figure size 640x480 with 1 Axes>"
      ]
     },
     "metadata": {},
     "output_type": "display_data"
    }
   ],
   "source": [
    "import seaborn as sns\n",
    "fig,ax = plt.subplots()\n",
    "sns.kdeplot(df_bikes['windspeed'])"
   ]
  },
  {
   "cell_type": "code",
   "execution_count": 79,
   "id": "9660c399",
   "metadata": {},
   "outputs": [
    {
     "name": "stdout",
     "output_type": "stream",
     "text": [
      "0.6750115414640216\n",
      "0.38365674281704853\n"
     ]
    }
   ],
   "source": [
    "import scipy\n",
    "from scipy.stats import skew\n",
    "from scipy.stats import kurtosis\n",
    "print(skew(df_bikes[df_bikes['windspeed'].isna()==False]['windspeed'], axis=0, bias=True))\n",
    "print(kurtosis(df_bikes[df_bikes['windspeed'].isna()==False]['windspeed'], axis=0, bias=True))"
   ]
  },
  {
   "cell_type": "markdown",
   "id": "3819cece",
   "metadata": {},
   "source": [
    "### The distribution roughly follows normal distribution, can fillna by mean or median, median first"
   ]
  },
  {
   "cell_type": "code",
   "execution_count": 82,
   "id": "90e074a3",
   "metadata": {},
   "outputs": [
    {
     "data": {
      "text/html": [
       "<div>\n",
       "<style scoped>\n",
       "    .dataframe tbody tr th:only-of-type {\n",
       "        vertical-align: middle;\n",
       "    }\n",
       "\n",
       "    .dataframe tbody tr th {\n",
       "        vertical-align: top;\n",
       "    }\n",
       "\n",
       "    .dataframe thead th {\n",
       "        text-align: right;\n",
       "    }\n",
       "</style>\n",
       "<table border=\"1\" class=\"dataframe\">\n",
       "  <thead>\n",
       "    <tr style=\"text-align: right;\">\n",
       "      <th></th>\n",
       "      <th>instant</th>\n",
       "      <th>dteday</th>\n",
       "      <th>season</th>\n",
       "      <th>yr</th>\n",
       "      <th>mnth</th>\n",
       "      <th>holiday</th>\n",
       "      <th>weekday</th>\n",
       "      <th>workingday</th>\n",
       "      <th>weathersit</th>\n",
       "      <th>temp</th>\n",
       "      <th>atemp</th>\n",
       "      <th>hum</th>\n",
       "      <th>windspeed</th>\n",
       "      <th>casual</th>\n",
       "      <th>registered</th>\n",
       "      <th>cnt</th>\n",
       "    </tr>\n",
       "  </thead>\n",
       "  <tbody>\n",
       "    <tr>\n",
       "      <th>56</th>\n",
       "      <td>57</td>\n",
       "      <td>2011-02-26</td>\n",
       "      <td>1.0</td>\n",
       "      <td>0.0</td>\n",
       "      <td>2.0</td>\n",
       "      <td>0.0</td>\n",
       "      <td>6.0</td>\n",
       "      <td>0.0</td>\n",
       "      <td>1</td>\n",
       "      <td>0.282500</td>\n",
       "      <td>0.282192</td>\n",
       "      <td>0.537917</td>\n",
       "      <td>0.180971</td>\n",
       "      <td>424</td>\n",
       "      <td>1545</td>\n",
       "      <td>1969</td>\n",
       "    </tr>\n",
       "    <tr>\n",
       "      <th>81</th>\n",
       "      <td>82</td>\n",
       "      <td>2011-03-23</td>\n",
       "      <td>2.0</td>\n",
       "      <td>0.0</td>\n",
       "      <td>3.0</td>\n",
       "      <td>0.0</td>\n",
       "      <td>3.0</td>\n",
       "      <td>1.0</td>\n",
       "      <td>2</td>\n",
       "      <td>0.346957</td>\n",
       "      <td>0.337939</td>\n",
       "      <td>0.839565</td>\n",
       "      <td>0.180971</td>\n",
       "      <td>203</td>\n",
       "      <td>1918</td>\n",
       "      <td>2121</td>\n",
       "    </tr>\n",
       "    <tr>\n",
       "      <th>128</th>\n",
       "      <td>129</td>\n",
       "      <td>2011-05-09</td>\n",
       "      <td>2.0</td>\n",
       "      <td>0.0</td>\n",
       "      <td>5.0</td>\n",
       "      <td>0.0</td>\n",
       "      <td>1.0</td>\n",
       "      <td>1.0</td>\n",
       "      <td>1</td>\n",
       "      <td>0.532500</td>\n",
       "      <td>0.525246</td>\n",
       "      <td>0.588750</td>\n",
       "      <td>0.180971</td>\n",
       "      <td>664</td>\n",
       "      <td>3698</td>\n",
       "      <td>4362</td>\n",
       "    </tr>\n",
       "    <tr>\n",
       "      <th>298</th>\n",
       "      <td>299</td>\n",
       "      <td>2011-10-26</td>\n",
       "      <td>4.0</td>\n",
       "      <td>0.0</td>\n",
       "      <td>10.0</td>\n",
       "      <td>0.0</td>\n",
       "      <td>3.0</td>\n",
       "      <td>1.0</td>\n",
       "      <td>2</td>\n",
       "      <td>0.484167</td>\n",
       "      <td>0.472846</td>\n",
       "      <td>0.720417</td>\n",
       "      <td>0.180971</td>\n",
       "      <td>404</td>\n",
       "      <td>3490</td>\n",
       "      <td>3894</td>\n",
       "    </tr>\n",
       "    <tr>\n",
       "      <th>528</th>\n",
       "      <td>529</td>\n",
       "      <td>2012-06-12</td>\n",
       "      <td>2.0</td>\n",
       "      <td>1.0</td>\n",
       "      <td>6.0</td>\n",
       "      <td>0.0</td>\n",
       "      <td>2.0</td>\n",
       "      <td>1.0</td>\n",
       "      <td>2</td>\n",
       "      <td>0.653333</td>\n",
       "      <td>0.597875</td>\n",
       "      <td>0.833333</td>\n",
       "      <td>0.180971</td>\n",
       "      <td>477</td>\n",
       "      <td>4495</td>\n",
       "      <td>4972</td>\n",
       "    </tr>\n",
       "  </tbody>\n",
       "</table>\n",
       "</div>"
      ],
      "text/plain": [
       "     instant      dteday  season   yr  mnth  holiday  weekday  workingday  \\\n",
       "56        57  2011-02-26     1.0  0.0   2.0      0.0      6.0         0.0   \n",
       "81        82  2011-03-23     2.0  0.0   3.0      0.0      3.0         1.0   \n",
       "128      129  2011-05-09     2.0  0.0   5.0      0.0      1.0         1.0   \n",
       "298      299  2011-10-26     4.0  0.0  10.0      0.0      3.0         1.0   \n",
       "528      529  2012-06-12     2.0  1.0   6.0      0.0      2.0         1.0   \n",
       "\n",
       "     weathersit      temp     atemp       hum  windspeed  casual  registered  \\\n",
       "56            1  0.282500  0.282192  0.537917   0.180971     424        1545   \n",
       "81            2  0.346957  0.337939  0.839565   0.180971     203        1918   \n",
       "128           1  0.532500  0.525246  0.588750   0.180971     664        3698   \n",
       "298           2  0.484167  0.472846  0.720417   0.180971     404        3490   \n",
       "528           2  0.653333  0.597875  0.833333   0.180971     477        4495   \n",
       "\n",
       "      cnt  \n",
       "56   1969  \n",
       "81   2121  \n",
       "128  4362  \n",
       "298  3894  \n",
       "528  4972  "
      ]
     },
     "execution_count": 82,
     "metadata": {},
     "output_type": "execute_result"
    }
   ],
   "source": [
    "df_bikes['windspeed'].fillna((df_bikes['windspeed'].median()), inplace=True)\n",
    "df_bikes.iloc[[56, 81,128,298,528]]"
   ]
  },
  {
   "cell_type": "markdown",
   "id": "c1091e76",
   "metadata": {},
   "source": [
    "### fill na in humidity by grouping season as three records belong to different seasons"
   ]
  },
  {
   "cell_type": "code",
   "execution_count": 86,
   "id": "ad15f021",
   "metadata": {},
   "outputs": [],
   "source": [
    "df_bikes['hum']\n",
    "df_bikes['hum'] = df_bikes['hum'].fillna(df_bikes.groupby('season')['hum'].transform('median'))"
   ]
  },
  {
   "cell_type": "code",
   "execution_count": 87,
   "id": "6b676e69",
   "metadata": {},
   "outputs": [
    {
     "data": {
      "text/html": [
       "<div>\n",
       "<style scoped>\n",
       "    .dataframe tbody tr th:only-of-type {\n",
       "        vertical-align: middle;\n",
       "    }\n",
       "\n",
       "    .dataframe tbody tr th {\n",
       "        vertical-align: top;\n",
       "    }\n",
       "\n",
       "    .dataframe thead th {\n",
       "        text-align: right;\n",
       "    }\n",
       "</style>\n",
       "<table border=\"1\" class=\"dataframe\">\n",
       "  <thead>\n",
       "    <tr style=\"text-align: right;\">\n",
       "      <th></th>\n",
       "      <th>instant</th>\n",
       "      <th>dteday</th>\n",
       "      <th>season</th>\n",
       "      <th>yr</th>\n",
       "      <th>mnth</th>\n",
       "      <th>holiday</th>\n",
       "      <th>weekday</th>\n",
       "      <th>workingday</th>\n",
       "      <th>weathersit</th>\n",
       "      <th>temp</th>\n",
       "      <th>atemp</th>\n",
       "      <th>hum</th>\n",
       "      <th>windspeed</th>\n",
       "      <th>casual</th>\n",
       "      <th>registered</th>\n",
       "      <th>cnt</th>\n",
       "    </tr>\n",
       "  </thead>\n",
       "  <tbody>\n",
       "    <tr>\n",
       "      <th>129</th>\n",
       "      <td>130</td>\n",
       "      <td>2011-05-10</td>\n",
       "      <td>2.0</td>\n",
       "      <td>0.0</td>\n",
       "      <td>5.0</td>\n",
       "      <td>0.0</td>\n",
       "      <td>2.0</td>\n",
       "      <td>1.0</td>\n",
       "      <td>1</td>\n",
       "      <td>0.532500</td>\n",
       "      <td>0.522721</td>\n",
       "      <td>0.646667</td>\n",
       "      <td>0.115671</td>\n",
       "      <td>694</td>\n",
       "      <td>4109</td>\n",
       "      <td>4803</td>\n",
       "    </tr>\n",
       "    <tr>\n",
       "      <th>213</th>\n",
       "      <td>214</td>\n",
       "      <td>2011-08-02</td>\n",
       "      <td>3.0</td>\n",
       "      <td>0.0</td>\n",
       "      <td>8.0</td>\n",
       "      <td>0.0</td>\n",
       "      <td>2.0</td>\n",
       "      <td>1.0</td>\n",
       "      <td>1</td>\n",
       "      <td>0.783333</td>\n",
       "      <td>0.707071</td>\n",
       "      <td>0.635833</td>\n",
       "      <td>0.205850</td>\n",
       "      <td>801</td>\n",
       "      <td>4044</td>\n",
       "      <td>4845</td>\n",
       "    </tr>\n",
       "    <tr>\n",
       "      <th>388</th>\n",
       "      <td>389</td>\n",
       "      <td>2012-01-24</td>\n",
       "      <td>1.0</td>\n",
       "      <td>1.0</td>\n",
       "      <td>1.0</td>\n",
       "      <td>0.0</td>\n",
       "      <td>2.0</td>\n",
       "      <td>1.0</td>\n",
       "      <td>1</td>\n",
       "      <td>0.342500</td>\n",
       "      <td>0.349108</td>\n",
       "      <td>0.543750</td>\n",
       "      <td>0.123767</td>\n",
       "      <td>439</td>\n",
       "      <td>3900</td>\n",
       "      <td>4339</td>\n",
       "    </tr>\n",
       "  </tbody>\n",
       "</table>\n",
       "</div>"
      ],
      "text/plain": [
       "     instant      dteday  season   yr  mnth  holiday  weekday  workingday  \\\n",
       "129      130  2011-05-10     2.0  0.0   5.0      0.0      2.0         1.0   \n",
       "213      214  2011-08-02     3.0  0.0   8.0      0.0      2.0         1.0   \n",
       "388      389  2012-01-24     1.0  1.0   1.0      0.0      2.0         1.0   \n",
       "\n",
       "     weathersit      temp     atemp       hum  windspeed  casual  registered  \\\n",
       "129           1  0.532500  0.522721  0.646667   0.115671     694        4109   \n",
       "213           1  0.783333  0.707071  0.635833   0.205850     801        4044   \n",
       "388           1  0.342500  0.349108  0.543750   0.123767     439        3900   \n",
       "\n",
       "      cnt  \n",
       "129  4803  \n",
       "213  4845  \n",
       "388  4339  "
      ]
     },
     "execution_count": 87,
     "metadata": {},
     "output_type": "execute_result"
    }
   ],
   "source": [
    "df_bikes.iloc[[129, 213, 388]]"
   ]
  },
  {
   "cell_type": "markdown",
   "id": "384e307d",
   "metadata": {},
   "source": [
    "### fill temp na,  sum the temperatures in rows 700 and 702 and divide by 2. Do this for the 'temp' and 'atemp' columns（Sample code）"
   ]
  },
  {
   "cell_type": "code",
   "execution_count": 102,
   "id": "41227b0b",
   "metadata": {},
   "outputs": [
    {
     "data": {
      "text/html": [
       "<div>\n",
       "<style scoped>\n",
       "    .dataframe tbody tr th:only-of-type {\n",
       "        vertical-align: middle;\n",
       "    }\n",
       "\n",
       "    .dataframe tbody tr th {\n",
       "        vertical-align: top;\n",
       "    }\n",
       "\n",
       "    .dataframe thead th {\n",
       "        text-align: right;\n",
       "    }\n",
       "</style>\n",
       "<table border=\"1\" class=\"dataframe\">\n",
       "  <thead>\n",
       "    <tr style=\"text-align: right;\">\n",
       "      <th></th>\n",
       "      <th>instant</th>\n",
       "      <th>season</th>\n",
       "      <th>yr</th>\n",
       "      <th>mnth</th>\n",
       "      <th>holiday</th>\n",
       "      <th>weekday</th>\n",
       "      <th>workingday</th>\n",
       "      <th>weathersit</th>\n",
       "      <th>temp</th>\n",
       "      <th>atemp</th>\n",
       "      <th>hum</th>\n",
       "      <th>windspeed</th>\n",
       "      <th>casual</th>\n",
       "      <th>registered</th>\n",
       "      <th>cnt</th>\n",
       "    </tr>\n",
       "  </thead>\n",
       "  <tbody>\n",
       "    <tr>\n",
       "      <th>700</th>\n",
       "      <td>701</td>\n",
       "      <td>4.0</td>\n",
       "      <td>1.0</td>\n",
       "      <td>12</td>\n",
       "      <td>0.0</td>\n",
       "      <td>6.0</td>\n",
       "      <td>0.0</td>\n",
       "      <td>2</td>\n",
       "      <td>0.298333</td>\n",
       "      <td>0.316904</td>\n",
       "      <td>0.806667</td>\n",
       "      <td>0.059704</td>\n",
       "      <td>951</td>\n",
       "      <td>4240</td>\n",
       "      <td>5191</td>\n",
       "    </tr>\n",
       "    <tr>\n",
       "      <th>702</th>\n",
       "      <td>703</td>\n",
       "      <td>4.0</td>\n",
       "      <td>1.0</td>\n",
       "      <td>12</td>\n",
       "      <td>0.0</td>\n",
       "      <td>1.0</td>\n",
       "      <td>1.0</td>\n",
       "      <td>1</td>\n",
       "      <td>0.452500</td>\n",
       "      <td>0.455796</td>\n",
       "      <td>0.767500</td>\n",
       "      <td>0.082721</td>\n",
       "      <td>555</td>\n",
       "      <td>5679</td>\n",
       "      <td>6234</td>\n",
       "    </tr>\n",
       "  </tbody>\n",
       "</table>\n",
       "</div>"
      ],
      "text/plain": [
       "     instant  season   yr  mnth  holiday  weekday  workingday  weathersit  \\\n",
       "700      701     4.0  1.0    12      0.0      6.0         0.0           2   \n",
       "702      703     4.0  1.0    12      0.0      1.0         1.0           1   \n",
       "\n",
       "         temp     atemp       hum  windspeed  casual  registered   cnt  \n",
       "700  0.298333  0.316904  0.806667   0.059704     951        4240  5191  \n",
       "702  0.452500  0.455796  0.767500   0.082721     555        5679  6234  "
      ]
     },
     "execution_count": 102,
     "metadata": {},
     "output_type": "execute_result"
    }
   ],
   "source": [
    "df_bikes.iloc[[700,702]]"
   ]
  },
  {
   "cell_type": "markdown",
   "id": "4d3a3da1",
   "metadata": {},
   "source": [
    "### Notes: Actually can fill median or mean by grouping by months"
   ]
  },
  {
   "cell_type": "code",
   "execution_count": 88,
   "id": "c6ffffb6",
   "metadata": {},
   "outputs": [
    {
     "data": {
      "text/html": [
       "<div>\n",
       "<style scoped>\n",
       "    .dataframe tbody tr th:only-of-type {\n",
       "        vertical-align: middle;\n",
       "    }\n",
       "\n",
       "    .dataframe tbody tr th {\n",
       "        vertical-align: top;\n",
       "    }\n",
       "\n",
       "    .dataframe thead th {\n",
       "        text-align: right;\n",
       "    }\n",
       "</style>\n",
       "<table border=\"1\" class=\"dataframe\">\n",
       "  <thead>\n",
       "    <tr style=\"text-align: right;\">\n",
       "      <th></th>\n",
       "      <th>instant</th>\n",
       "      <th>dteday</th>\n",
       "      <th>season</th>\n",
       "      <th>yr</th>\n",
       "      <th>mnth</th>\n",
       "      <th>holiday</th>\n",
       "      <th>weekday</th>\n",
       "      <th>workingday</th>\n",
       "      <th>weathersit</th>\n",
       "      <th>temp</th>\n",
       "      <th>atemp</th>\n",
       "      <th>hum</th>\n",
       "      <th>windspeed</th>\n",
       "      <th>casual</th>\n",
       "      <th>registered</th>\n",
       "      <th>cnt</th>\n",
       "    </tr>\n",
       "  </thead>\n",
       "  <tbody>\n",
       "    <tr>\n",
       "      <th>701</th>\n",
       "      <td>702</td>\n",
       "      <td>2012-12-02</td>\n",
       "      <td>4.0</td>\n",
       "      <td>1.0</td>\n",
       "      <td>12.0</td>\n",
       "      <td>0.0</td>\n",
       "      <td>0.0</td>\n",
       "      <td>0.0</td>\n",
       "      <td>2</td>\n",
       "      <td>NaN</td>\n",
       "      <td>NaN</td>\n",
       "      <td>0.823333</td>\n",
       "      <td>0.124379</td>\n",
       "      <td>892</td>\n",
       "      <td>3757</td>\n",
       "      <td>4649</td>\n",
       "    </tr>\n",
       "  </tbody>\n",
       "</table>\n",
       "</div>"
      ],
      "text/plain": [
       "     instant      dteday  season   yr  mnth  holiday  weekday  workingday  \\\n",
       "701      702  2012-12-02     4.0  1.0  12.0      0.0      0.0         0.0   \n",
       "\n",
       "     weathersit  temp  atemp       hum  windspeed  casual  registered   cnt  \n",
       "701           2   NaN    NaN  0.823333   0.124379     892        3757  4649  "
      ]
     },
     "execution_count": 88,
     "metadata": {},
     "output_type": "execute_result"
    }
   ],
   "source": [
    "df_bikes[df_bikes['temp'].isna()]"
   ]
  },
  {
   "cell_type": "code",
   "execution_count": 89,
   "id": "c204ce5d",
   "metadata": {},
   "outputs": [],
   "source": [
    "mean_temp = (df_bikes.iloc[700]['temp'] + df_bikes.iloc[702]['temp'])/2 \n",
    "mean_atemp = (df_bikes.iloc[700]['atemp'] + df_bikes.iloc[702]['atemp'])/2\n",
    "df_bikes['temp'].fillna((mean_temp), inplace=True) \n",
    "df_bikes['atemp'].fillna((mean_atemp), inplace=True)"
   ]
  },
  {
   "cell_type": "markdown",
   "id": "e06c924a",
   "metadata": {},
   "source": [
    "### Now process date na, for date, transformation through pandas is must"
   ]
  },
  {
   "cell_type": "code",
   "execution_count": 93,
   "id": "72539b8a",
   "metadata": {},
   "outputs": [
    {
     "data": {
      "text/plain": [
       "0     2011-01-01\n",
       "1     2011-01-02\n",
       "2     2011-01-03\n",
       "3     2011-01-04\n",
       "4     2011-01-05\n",
       "         ...    \n",
       "726   2012-12-27\n",
       "727   2012-12-28\n",
       "728   2012-12-29\n",
       "729   2012-12-30\n",
       "730   2012-12-31\n",
       "Name: dteday, Length: 731, dtype: datetime64[ns]"
      ]
     },
     "execution_count": 93,
     "metadata": {},
     "output_type": "execute_result"
    }
   ],
   "source": [
    "df_bikes['dteday'] = pd.to_datetime(df_bikes['dteday'],infer_datetime_format=True)\n",
    "df_bikes['dteday']"
   ]
  },
  {
   "cell_type": "code",
   "execution_count": 98,
   "id": "6615a2cf",
   "metadata": {},
   "outputs": [
    {
     "data": {
      "text/plain": [
       "726    12\n",
       "727    12\n",
       "728    12\n",
       "729    12\n",
       "730    12\n",
       "Name: mnth, dtype: int64"
      ]
     },
     "execution_count": 98,
     "metadata": {},
     "output_type": "execute_result"
    }
   ],
   "source": [
    "import datetime as dt\n",
    "df_bikes['mnth'] = df_bikes['dteday'].dt.month\n",
    "df_bikes['mnth'].head()\n",
    "df_bikes['mnth'].tail()"
   ]
  },
  {
   "cell_type": "code",
   "execution_count": 99,
   "id": "0399fcdf",
   "metadata": {},
   "outputs": [],
   "source": [
    "df_bikes.loc[730, 'yr'] = 1.0"
   ]
  },
  {
   "cell_type": "markdown",
   "id": "eadf71b1",
   "metadata": {},
   "source": [
    "### del non-numerical values"
   ]
  },
  {
   "cell_type": "code",
   "execution_count": 100,
   "id": "653fae40",
   "metadata": {},
   "outputs": [],
   "source": [
    "df_bikes = df_bikes.drop('dteday', axis=1)"
   ]
  },
  {
   "cell_type": "markdown",
   "id": "5eb1e33a",
   "metadata": {},
   "source": [
    "# In the bike rentals dataset, df_bikes['cnt'] is the number of bike rentals in a given day. Predicting this column would be of great use to a bike rental company"
   ]
  },
  {
   "cell_type": "code",
   "execution_count": null,
   "id": "baf9e9e0",
   "metadata": {},
   "outputs": [],
   "source": [
    "#According to the dataset, df_bikes['cnt'] is the sum of df_bikes['casual'] and df_bikes['registered'].\n",
    "#If df_bikes['registered'] and df_bikes['casual'] were included as input columns,\n",
    "#predictions would always be 100%accurate since these columns would always sum to the correct result. \n",
    "#Although perfect predictions are ideal in theory, it makes no sense to include input columns that would be unknown in reality.\n",
    "\n",
    "df_bikes = df_bikes.drop(['casual', 'registered'], axis=1)"
   ]
  },
  {
   "cell_type": "code",
   "execution_count": 106,
   "id": "8a2f9344",
   "metadata": {},
   "outputs": [],
   "source": [
    "df_bikes.to_csv('bike_rentals_cleaned.csv', index=False)"
   ]
  },
  {
   "cell_type": "code",
   "execution_count": 110,
   "id": "e910d213",
   "metadata": {},
   "outputs": [
    {
     "data": {
      "text/plain": [
       "0       985\n",
       "1       801\n",
       "2      1349\n",
       "3      1562\n",
       "4      1600\n",
       "       ... \n",
       "726    2114\n",
       "727    3095\n",
       "728    1341\n",
       "729    1796\n",
       "730    2729\n",
       "Name: cnt, Length: 731, dtype: int64"
      ]
     },
     "execution_count": 110,
     "metadata": {},
     "output_type": "execute_result"
    }
   ],
   "source": [
    "X = df_bikes.iloc[:,:-1]   #all rows included, :-1 means start at the first column and go all the way to the last column without including it. The second -1 takes the last column only.\n",
    "y = df_bikes.iloc[:,-1]\n",
    "X\n",
    "y"
   ]
  },
  {
   "cell_type": "markdown",
   "id": "d7ed3f45",
   "metadata": {},
   "source": [
    "### Linear"
   ]
  },
  {
   "cell_type": "code",
   "execution_count": 140,
   "id": "cdde0c55",
   "metadata": {},
   "outputs": [],
   "source": [
    "from sklearn.model_selection import train_test_split \n",
    "from sklearn.linear_model import LinearRegression\n",
    "X_train, X_test, y_train, y_test = train_test_split(X, y, random_state=2) \n",
    "#choosing the seed of a pseudo-random number generator to ensure reproducible results"
   ]
  },
  {
   "cell_type": "code",
   "execution_count": 141,
   "id": "3ba1897c",
   "metadata": {},
   "outputs": [],
   "source": [
    "lin_reg = LinearRegression()\n",
    "lin_reg.fit(X_train, y_train)\n",
    "y_pred = lin_reg.predict(X_test)"
   ]
  },
  {
   "cell_type": "code",
   "execution_count": 142,
   "id": "6c6b3dc5",
   "metadata": {},
   "outputs": [
    {
     "name": "stdout",
     "output_type": "stream",
     "text": [
      "linear RMSE: 898.21\n",
      "linear MAPE: 0.20\n",
      "linear R-square: 0.79\n"
     ]
    }
   ],
   "source": [
    "import numpy as np\n",
    "from sklearn.metrics import mean_squared_error\n",
    "from sklearn.metrics import mean_absolute_percentage_error\n",
    "from sklearn.metrics import r2_score\n",
    "#mse\n",
    "mse = mean_squared_error(y_test, y_pred) \n",
    "rmse = np.sqrt(mse)\n",
    "print(\"linear RMSE: %0.2f\" % (rmse))\n",
    "\n",
    "#mape\n",
    "mape = mean_absolute_percentage_error(y_test, y_pred) \n",
    "print(\"linear MAPE: %0.2f\" % (mape))\n",
    "\n",
    "#r2\n",
    "r2 = r2_score(y_test, y_pred) \n",
    "print(\"linear R-square: %0.2f\" % (r2))"
   ]
  },
  {
   "cell_type": "code",
   "execution_count": 135,
   "id": "2e7cdd15",
   "metadata": {},
   "outputs": [
    {
     "data": {
      "text/plain": [
       "count     731.000000\n",
       "mean     4504.348837\n",
       "std      1937.211452\n",
       "min        22.000000\n",
       "25%      3152.000000\n",
       "50%      4548.000000\n",
       "75%      5956.000000\n",
       "max      8714.000000\n",
       "Name: cnt, dtype: float64"
      ]
     },
     "execution_count": 135,
     "metadata": {},
     "output_type": "execute_result"
    }
   ],
   "source": [
    "df_bikes['cnt'].describe()"
   ]
  },
  {
   "cell_type": "markdown",
   "id": "a578f7a0",
   "metadata": {},
   "source": [
    "### With a range of 22 to 8714, a mean of 4504, and a standard deviation of 1937, an RMSE of 898 isn't bad, but it's not great either"
   ]
  },
  {
   "cell_type": "markdown",
   "id": "1cb8e90d",
   "metadata": {},
   "source": [
    "### XGBoost"
   ]
  },
  {
   "cell_type": "code",
   "execution_count": 138,
   "id": "f17c313b",
   "metadata": {},
   "outputs": [
    {
     "name": "stdout",
     "output_type": "stream",
     "text": [
      "XGBoost RMSE: 705.11\n",
      "XGBoost MAPE: 0.15\n",
      "XGBoost R-square: 0.87\n"
     ]
    }
   ],
   "source": [
    "from xgboost import XGBRegressor\n",
    "xg_reg = XGBRegressor()\n",
    "xg_reg.fit(X_train, y_train)\n",
    "y_pred = xg_reg.predict(X_test)\n",
    "\n",
    "mse = mean_squared_error(y_test, y_pred) \n",
    "rmse = np.sqrt(mse)\n",
    "print(\"XGBoost RMSE: %0.2f\" % (rmse))\n",
    "\n",
    "#mape\n",
    "mape = mean_absolute_percentage_error(y_test, y_pred) \n",
    "print(\"XGBoost MAPE: %0.2f\" % (mape))\n",
    "\n",
    "#r2\n",
    "r2 = r2_score(y_test, y_pred) \n",
    "print(\"XGBoost R-square: %0.2f\" % (r2))"
   ]
  },
  {
   "cell_type": "markdown",
   "id": "625e746c",
   "metadata": {},
   "source": [
    "## Cross validation test with scoring == negative mse"
   ]
  },
  {
   "cell_type": "markdown",
   "id": "c4805dc4",
   "metadata": {},
   "source": [
    "### Cross validation with linear"
   ]
  },
  {
   "cell_type": "code",
   "execution_count": 148,
   "id": "588fd7dc",
   "metadata": {},
   "outputs": [
    {
     "name": "stdout",
     "output_type": "stream",
     "text": [
      "[ -254023.184597    -706523.99840198 -1301612.08252473  -530554.28645016\n",
      "  -409851.78535971  -940801.36212315 -1284705.47755477 -1569626.37894129\n",
      " -1176435.35983868 -2031553.62469152]\n"
     ]
    },
    {
     "data": {
      "text/plain": [
       "\"\\nWhy\\xa0scoring='neg_mean_squared_error'? Scikit-learn is designed to select the highest score when training models. \\nThis works well for accuracy, but not for errors when the lowest is best. \\nBy taking the negative of each mean squared error, the lowest ends up being the highest.\\nThis is compensated for later with\\xa0rmse = np.sqrt(-scores), so the final results are positive.\\n\""
      ]
     },
     "execution_count": 148,
     "metadata": {},
     "output_type": "execute_result"
    }
   ],
   "source": [
    "from sklearn.model_selection import cross_val_score\n",
    "model = LinearRegression()\n",
    "scores = cross_val_score(model, X, y, scoring='neg_mean_squared_error', cv=10)\n",
    "print(scores)\n",
    "\n",
    "'''\n",
    "Why scoring='neg_mean_squared_error'? Scikit-learn is designed to select the highest score when training models. \n",
    "This works well for accuracy, but not for errors when the lowest is best. \n",
    "By taking the negative of each mean squared error, the lowest ends up being the highest.\n",
    "This is compensated for later with rmse = np.sqrt(-scores), so the final results are positive.\n",
    "'''"
   ]
  },
  {
   "cell_type": "code",
   "execution_count": 150,
   "id": "252f334c",
   "metadata": {},
   "outputs": [
    {
     "name": "stdout",
     "output_type": "stream",
     "text": [
      "Reg rmse: [ 504.01  840.55 1140.88  728.39  640.2   969.95 1133.45 1252.85 1084.64\n",
      " 1425.33]\n",
      "RMSE mean: 972.02\n"
     ]
    }
   ],
   "source": [
    "rmse = np.sqrt(-scores)\n",
    "print('Reg rmse:', np.round(rmse, 2))\n",
    "print('RMSE mean: %0.2f' % (rmse.mean()))\n",
    "\n",
    "'''\n",
    "Linear regression has a mean error of 972.06. This is slightly better than the 980.38 obtained before. \n",
    "The point here is not whether the score is better or worse. \n",
    "The point is that it's a better estimation of how linear regression will perform on unseen data.\n",
    "Using cross-validation is always recommended for a better estimate of the score.\n",
    "'''"
   ]
  },
  {
   "cell_type": "markdown",
   "id": "bff7bdbd",
   "metadata": {},
   "source": [
    "### Cross validation with XGBoost"
   ]
  },
  {
   "cell_type": "code",
   "execution_count": 151,
   "id": "3c676005",
   "metadata": {},
   "outputs": [
    {
     "name": "stdout",
     "output_type": "stream",
     "text": [
      "Reg rmse: [ 717.65  692.8   520.7   737.68  835.96 1006.24  991.34  747.61  891.99\n",
      " 1731.13]\n",
      "RMSE mean: 887.31\n"
     ]
    }
   ],
   "source": [
    "model = XGBRegressor()\n",
    "scores = cross_val_score(model, X, y, scoring='neg_mean_squared_error', cv=10)\n",
    "rmse = np.sqrt(-scores)\n",
    "print('Reg rmse:', np.round(rmse, 2)) \n",
    "print('RMSE mean: %0.2f' % (rmse.mean()))\n",
    "\n",
    "'''\n",
    "XGBRegressor wins again, besting linear regression by about 10%.\n",
    "'''"
   ]
  }
 ],
 "metadata": {
  "kernelspec": {
   "display_name": "Python 3 (ipykernel)",
   "language": "python",
   "name": "python3"
  },
  "language_info": {
   "codemirror_mode": {
    "name": "ipython",
    "version": 3
   },
   "file_extension": ".py",
   "mimetype": "text/x-python",
   "name": "python",
   "nbconvert_exporter": "python",
   "pygments_lexer": "ipython3",
   "version": "3.8.8"
  }
 },
 "nbformat": 4,
 "nbformat_minor": 5
}
